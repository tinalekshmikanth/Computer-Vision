{
 "cells": [
  {
   "cell_type": "markdown",
   "metadata": {},
   "source": [
    "Name: Tina LekshmiKanth\n",
    "CWID: A20411284\n",
    "Fall 18 - CS512"
   ]
  },
  {
   "cell_type": "code",
   "execution_count": 2,
   "metadata": {},
   "outputs": [
    {
     "name": "stdout",
     "output_type": "stream",
     "text": [
      "[[ 14  -2  -4]\n",
      " [  9   0  15]\n",
      " [  7   7 -21]]\n"
     ]
    }
   ],
   "source": [
    "#B.2\n",
    "import numpy as np\n",
    "A = ([1,2,3],[4,-2,3],[0,5,-1])\n",
    "B=([1,2,1],[2,1,-4],[3,-2,1])\n",
    "AB= np.dot(A,B)\n",
    "print(AB)"
   ]
  },
  {
   "cell_type": "code",
   "execution_count": 3,
   "metadata": {},
   "outputs": [
    {
     "name": "stdout",
     "output_type": "stream",
     "text": [
      "[[  9   3   8]\n",
      " [  6 -18  13]\n",
      " [ -5  15   2]]\n"
     ]
    }
   ],
   "source": [
    "BA = np.dot(B,A)\n",
    "print(BA)"
   ]
  },
  {
   "cell_type": "code",
   "execution_count": 5,
   "metadata": {},
   "outputs": [
    {
     "name": "stdout",
     "output_type": "stream",
     "text": [
      "[[ 14   9   7]\n",
      " [ -2   0   7]\n",
      " [ -4  15 -21]]\n"
     ]
    }
   ],
   "source": [
    "#B.3\n",
    "AB_Transpose = np.transpose(AB)\n",
    "print(AB_Transpose)"
   ]
  },
  {
   "cell_type": "code",
   "execution_count": 6,
   "metadata": {},
   "outputs": [
    {
     "name": "stdout",
     "output_type": "stream",
     "text": [
      "[[  9   6  -5]\n",
      " [  3 -18  15]\n",
      " [  8  13   2]]\n"
     ]
    }
   ],
   "source": [
    "A_Trans= np.transpose(A)\n",
    "B_Trans= np.transpose(B)\n",
    "AtBt=np.dot(A_Trans,B_Trans)\n",
    "print(AtBt)"
   ]
  },
  {
   "cell_type": "code",
   "execution_count": 7,
   "metadata": {},
   "outputs": [
    {
     "name": "stdout",
     "output_type": "stream",
     "text": [
      "[[-0.23636364  0.30909091  0.21818182]\n",
      " [ 0.07272727 -0.01818182  0.16363636]\n",
      " [ 0.36363636 -0.09090909 -0.18181818]]\n",
      "[[ 0.16666667  0.0952381   0.21428571]\n",
      " [ 0.33333333  0.04761905 -0.14285714]\n",
      " [ 0.16666667 -0.19047619  0.07142857]]\n"
     ]
    }
   ],
   "source": [
    "#B.6\n",
    "from numpy.linalg import inv\n",
    "A_Inv = inv(A)\n",
    "print(A_Inv)\n",
    "B_Inv = inv(B)\n",
    "print(B_Inv)"
   ]
  },
  {
   "cell_type": "code",
   "execution_count": 9,
   "metadata": {},
   "outputs": [
    {
     "name": "stdout",
     "output_type": "stream",
     "text": [
      "[-1.  4.]\n"
     ]
    }
   ],
   "source": [
    "#C.1\n",
    "AA = ([1,2],[3,2])\n",
    "BB = ([2,-2], [-2, 5])\n",
    "AA_EigenVals = np.linalg.eigvals(AA)\n",
    "print(AA_EigenVals)\n"
   ]
  },
  {
   "cell_type": "code",
   "execution_count": 11,
   "metadata": {},
   "outputs": [
    {
     "name": "stdout",
     "output_type": "stream",
     "text": [
      "(array([-1.,  4.]), array([[-0.70710678, -0.5547002 ],\n",
      "       [ 0.70710678, -0.83205029]]))\n"
     ]
    }
   ],
   "source": [
    "AA_EigenVect = np.linalg.eig(AA)\n",
    "print(AA_EigenVect)"
   ]
  },
  {
   "cell_type": "code",
   "execution_count": null,
   "metadata": {
    "collapsed": true
   },
   "outputs": [],
   "source": []
  }
 ],
 "metadata": {
  "kernelspec": {
   "display_name": "Python 3",
   "language": "python",
   "name": "python3"
  },
  "language_info": {
   "codemirror_mode": {
    "name": "ipython",
    "version": 3
   },
   "file_extension": ".py",
   "mimetype": "text/x-python",
   "name": "python",
   "nbconvert_exporter": "python",
   "pygments_lexer": "ipython3",
   "version": "3.6.2"
  }
 },
 "nbformat": 4,
 "nbformat_minor": 2
}
