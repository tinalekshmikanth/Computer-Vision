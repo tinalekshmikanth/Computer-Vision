{
  "nbformat": 4,
  "nbformat_minor": 0,
  "metadata": {
    "colab": {
      "name": "AS4.ipynb",
      "version": "0.3.2",
      "provenance": [],
      "collapsed_sections": [],
      "toc_visible": true
    },
    "kernelspec": {
      "name": "python3",
      "display_name": "Python 3"
    },
    "accelerator": "GPU"
  },
  "cells": [
    {
      "metadata": {
        "id": "Wbi0_bmwkEWu",
        "colab_type": "code",
        "colab": {}
      },
      "cell_type": "code",
      "source": [
        "!pip show tensorflow"
      ],
      "execution_count": 0,
      "outputs": []
    },
    {
      "metadata": {
        "id": "cJMswe4ZkxUH",
        "colab_type": "code",
        "colab": {}
      },
      "cell_type": "code",
      "source": [
        "!pip install keras"
      ],
      "execution_count": 0,
      "outputs": []
    },
    {
      "metadata": {
        "id": "zyIlBsg9OP2m",
        "colab_type": "text"
      },
      "cell_type": "markdown",
      "source": [
        "DELIVERABLE 1"
      ]
    },
    {
      "metadata": {
        "id": "TFi8PBQV11qI",
        "colab_type": "code",
        "colab": {}
      },
      "cell_type": "code",
      "source": [
        "from __future__ import print_function\n",
        "import keras\n",
        "from keras.datasets import mnist\n",
        "from keras.models import Sequential\n",
        "from keras.layers import Dense, Dropout, Flatten\n",
        "from keras.layers import Conv2D, MaxPooling2D\n",
        "from keras import backend as K\n",
        "from keras import optimizers\n",
        "from sklearn.metrics import precision_score, recall_score\n",
        "import matplotlib.pyplot as plt\n",
        "import numpy as np\n",
        "batch_size = 128\n",
        "num_classes = 2\n",
        "epochs = 5\n",
        "\n",
        "# input image dimensions\n",
        "img_rows, img_cols = 28, 28\n",
        "\n",
        "# the data, split between train and test sets\n",
        "(x_train, y_train), (x_test, y_test) = mnist.load_data()\n",
        "\n",
        "if K.image_data_format() == 'channels_first':\n",
        "    x_train = x_train.reshape(x_train.shape[0], 1, img_rows, img_cols)\n",
        "    x_test = x_test.reshape(x_test.shape[0], 1, img_rows, img_cols)\n",
        "    input_shape = (1, img_rows, img_cols)\n",
        "else:\n",
        "    x_train = x_train.reshape(x_train.shape[0], img_rows, img_cols, 1)\n",
        "    x_test = x_test.reshape(x_test.shape[0], img_rows, img_cols, 1)\n",
        "    input_shape = (img_rows, img_cols, 1)\n",
        "\n",
        "x_train = x_train.astype('float32')\n",
        "x_test = x_test.astype('float32')\n",
        "x_train /= 255\n",
        "x_test /= 255\n",
        "print('x_train shape:', x_train.shape)\n",
        "print(x_train.shape[0], 'train samples')\n",
        "print(x_test.shape[0], 'test samples')\n",
        "\n",
        "\n",
        "\n",
        "y_train1=np.empty(y_train.shape[0],dtype=object)\n",
        "y_test1=np.empty(y_test.shape[0],dtype=object)\n",
        "      \n",
        "for idx, item in enumerate(y_train):             \n",
        "      if item % 2 == 0:\n",
        "         \n",
        "            y_train1[idx] = 0     # even number\n",
        "      else:\n",
        "            y_train1[idx] = 1     # odd number\n",
        "                \n",
        "for idx, item in enumerate(y_test):\n",
        "                   \n",
        "      if item % 2 == 0:\n",
        "           \n",
        "            y_test1[idx] = 0     # even number\n",
        "      else:\n",
        "            y_test1[idx] = 1     # odd number\n",
        "\n",
        "\n",
        "\n",
        "# convert class vectors to binary class matrices\n",
        "y_train2 = keras.utils.to_categorical(y_train1, num_classes)\n",
        "y_test2 = keras.utils.to_categorical(y_test1, num_classes)\n",
        "\n",
        "print(y_train1[:10])\n",
        "model = Sequential()\n",
        "model.add(Conv2D(32, kernel_size=(5, 5),\n",
        "                 activation='relu',\n",
        "                 input_shape=input_shape))\n",
        "model.add(MaxPooling2D(pool_size=(2, 2)))\n",
        "model.add(Conv2D(64, (5, 5), activation='relu'))\n",
        "model.add(MaxPooling2D(pool_size=(2, 2)))\n",
        "model.add(Dropout(0.4))\n",
        "model.add(Flatten())\n",
        "model.add(Dense(128, activation='relu'))\n",
        "model.add(Dropout(0.4))\n",
        "model.add(Dense(num_classes, activation='sigmoid'))\n",
        "sgd = optimizers.SGD(lr=0.001)\n",
        "model.compile(loss='categorical_crossentropy',\n",
        "              optimizer=sgd,\n",
        "              metrics=['accuracy'])\n",
        "\n",
        "history = model.fit(x_train, y_train2,\n",
        "          batch_size=batch_size,\n",
        "          epochs=epochs,\n",
        "          verbose=1,\n",
        "          validation_split=0.08333)\n",
        "for key in history.history.keys():\n",
        "  #print(key)\n",
        "  plt.plot(history.history[key])\n",
        "plt.legend(list(history.history.keys()), loc=\"upper left\")\n",
        "plt.show()\n",
        "score = model.evaluate(x_test, y_test2, verbose=0)\n",
        "print('Test loss:', score[0])\n",
        "print('Test accuracy:', score[1])\n",
        "predicted = model.predict_classes(x_test)\n",
        "print ('Recall:', recall_score(y_test1.astype(int), predicted))\n",
        "print ('Precision:', precision_score(y_test1.astype(int), predicted))\n",
        "\n",
        "\n"
      ],
      "execution_count": 0,
      "outputs": []
    },
    {
      "metadata": {
        "id": "kLP0LcH5G_BQ",
        "colab_type": "text"
      },
      "cell_type": "markdown",
      "source": [
        "DELIVERABLE 2\n",
        "\n",
        "\n",
        "Parameter tuning:\n",
        "\n",
        "Number of layers : 3\n",
        "Optimizer: Adadelta()\n",
        "Epochs:12\n",
        "Loss Function: Categorical_hinge\n",
        "Drop out =0.25\n",
        "Batch Normalization"
      ]
    },
    {
      "metadata": {
        "id": "U46bfaDqHBSP",
        "colab_type": "code",
        "colab": {}
      },
      "cell_type": "code",
      "source": [
        "from __future__ import print_function\n",
        "import keras\n",
        "from keras.datasets import mnist\n",
        "from keras.models import Sequential\n",
        "from keras.layers import Dense, Dropout, Flatten\n",
        "from keras.layers import Conv2D, MaxPooling2D\n",
        "from keras import backend as K\n",
        "from keras import optimizers\n",
        "from keras.layers.normalization import BatchNormalization\n",
        "from sklearn.metrics import precision_score, recall_score\n",
        "import matplotlib.pyplot as plt\n",
        "import numpy as np\n",
        "batch_size = 128\n",
        "num_classes = 2\n",
        "epochs = 12\n",
        "\n",
        "# input image dimensions\n",
        "img_rows, img_cols = 28, 28\n",
        "\n",
        "# the data, split between train and test sets\n",
        "(x_train, y_train), (x_test, y_test) = mnist.load_data()\n",
        "\n",
        "if K.image_data_format() == 'channels_first':\n",
        "    x_train = x_train.reshape(x_train.shape[0], 1, img_rows, img_cols)\n",
        "    x_test = x_test.reshape(x_test.shape[0], 1, img_rows, img_cols)\n",
        "    input_shape = (1, img_rows, img_cols)\n",
        "else:\n",
        "    x_train = x_train.reshape(x_train.shape[0], img_rows, img_cols, 1)\n",
        "    x_test = x_test.reshape(x_test.shape[0], img_rows, img_cols, 1)\n",
        "    input_shape = (img_rows, img_cols, 1)\n",
        "\n",
        "x_train = x_train.astype('float32')\n",
        "x_test = x_test.astype('float32')\n",
        "x_train /= 255\n",
        "x_test /= 255\n",
        "print('x_train shape:', x_train.shape)\n",
        "print(x_train.shape[0], 'train samples')\n",
        "print(x_test.shape[0], 'test samples')\n",
        "\n",
        "\n",
        "y_train1=np.empty(y_train.shape[0],dtype=object)\n",
        "y_test1=np.empty(y_test.shape[0],dtype=object)\n",
        "      \n",
        "for idx, item in enumerate(y_train):             \n",
        "      if item % 2 == 0:\n",
        "         \n",
        "            y_train1[idx] = 0     # even number\n",
        "      else:\n",
        "            y_train1[idx] = 1     # odd number\n",
        "                \n",
        "for idx, item in enumerate(y_test):\n",
        "                   \n",
        "      if item % 2 == 0:\n",
        "           \n",
        "            y_test1[idx] = 0     # even number\n",
        "      else:\n",
        "            y_test1[idx] = 1     # odd number\n",
        "\n",
        "\n",
        "\n",
        "\n",
        "# convert class vectors to binary class matrices\n",
        "y_train2 = keras.utils.to_categorical(y_train1, num_classes)\n",
        "y_test2 = keras.utils.to_categorical(y_test1, num_classes)\n",
        "\n",
        "model = Sequential()\n",
        "keras.layers.normalization.BatchNormalization(epsilon=1e-06, mode=0, momentum=0.9, weights=None)\n",
        "model.add(Conv2D(32, kernel_size=(5, 5),\n",
        "                 activation='relu',\n",
        "                 input_shape=input_shape))\n",
        "model.add(MaxPooling2D(pool_size=(2, 2)))\n",
        "model.add(Conv2D(64, (3, 3), activation='relu'))\n",
        "model.add(MaxPooling2D(pool_size=(2, 2)))\n",
        "model.add(Conv2D(64, (3, 3), activation='relu'))\n",
        "model.add(MaxPooling2D(pool_size=(2, 2)))\n",
        "model.add(Dropout(0.25))\n",
        "model.add(Flatten())\n",
        "model.add(Dense(128, activation='relu'))\n",
        "model.add(Dropout(0.25))\n",
        "model.add(Dense(num_classes, activation='sigmoid'))\n",
        "sgd = optimizers.SGD(lr=0.001)\n",
        "model.compile(loss='categorical_hinge',\n",
        "             optimizer=keras.optimizers.Adadelta(),\n",
        "              metrics=['accuracy'])\n",
        "history = model.fit(x_train, y_train2,\n",
        "          batch_size=batch_size,\n",
        "          epochs=epochs,\n",
        "          verbose=1,\n",
        "          validation_split=0.08333)\n",
        "for key in history.history.keys():\n",
        "  plt.plot(history.history[key])\n",
        "plt.legend(list(history.history.keys()), loc=\"upper left\")\n",
        "plt.show()\n",
        "score = model.evaluate(x_test, y_test2, verbose=0)\n",
        "print('Test loss:', score[0])\n",
        "print('Test accuracy:', score[1])\n",
        "predicted = model.predict_classes(x_test)\n",
        "print ('Recall:', recall_score(y_test1.astype(int), predicted))\n",
        "print ('Precision:', precision_score(y_test1.astype(int), predicted))\n",
        "\n",
        "\n"
      ],
      "execution_count": 0,
      "outputs": []
    },
    {
      "metadata": {
        "id": "0xHN_0Ab3gHf",
        "colab_type": "text"
      },
      "cell_type": "markdown",
      "source": [
        "DELIVERABLE 3"
      ]
    },
    {
      "metadata": {
        "id": "X_Fd3Fj74bfp",
        "colab_type": "code",
        "colab": {}
      },
      "cell_type": "code",
      "source": [
        "!apt-get -qq install -y libsm6 libxext6 && pip install -q -U opencv-python\n",
        "import cv2\n",
        "image = cv2.imread(\"5.png\")\n",
        "resize_img = cv2.resize(image  , (28 , 28))\n",
        "x = cv2.cvtColor(resize_img,cv2.COLOR_BGR2GRAY)# converted to grayscale\n",
        "x = cv2.adaptiveThreshold(x, 255, cv2.ADAPTIVE_THRESH_GAUSSIAN_C, cv2.THRESH_BINARY_INV, 11, 2)# convert to binary\n",
        "x = x.reshape(1,28,28,1)\n",
        "x = x.astype('float32')\n",
        "x /= 255\n",
        "print(x)"
      ],
      "execution_count": 0,
      "outputs": []
    },
    {
      "metadata": {
        "id": "bamWXeUl87iu",
        "colab_type": "code",
        "colab": {
          "base_uri": "https://localhost:8080/",
          "height": 34
        },
        "outputId": "031b5912-9858-45e7-99d0-b5ecffe85609"
      },
      "cell_type": "code",
      "source": [
        "predX = model.predict_classes(x)\n",
        "print(predX)"
      ],
      "execution_count": 7,
      "outputs": [
        {
          "output_type": "stream",
          "text": [
            "[1]\n"
          ],
          "name": "stdout"
        }
      ]
    }
  ]
}